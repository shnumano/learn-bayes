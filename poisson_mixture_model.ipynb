{
 "cells": [
  {
   "cell_type": "code",
   "execution_count": 1,
   "metadata": {},
   "outputs": [],
   "source": [
    "import matplotlib.pyplot as plt\n",
    "import matplotlib.animation as anim\n",
    "from matplotlib.colors import BoundaryNorm\n",
    "import numpy as np\n",
    "import numpy.random as rnd\n",
    "import pandas as pd\n",
    "import scipy.stats as stats\n",
    "from scipy.special import logsumexp, digamma, gammaln\n",
    "import seaborn as sns\n",
    "from typing import *\n",
    "from tqdm import tqdm\n",
    "\n",
    "# 各分布のハイパーパラメーターなどを保持するクラスの定義ファイル\n",
    "from dists_and_models import Gamma, Poisson, BayesPoiMixModel, PoiMixModel\n",
    "\n",
    "\n",
    "plt.style.use(\"ggplot\")\n",
    "sns.set_context(\"poster\")"
   ]
  },
  {
   "cell_type": "markdown",
   "metadata": {},
   "source": [
    "ユーティリティ関数を定義する。"
   ]
  },
  {
   "cell_type": "code",
   "execution_count": 2,
   "metadata": {},
   "outputs": [],
   "source": [
    "def calc_ELBO(X, prior: BayesPoiMixModel, posterior: BayesPoiMixModel): # X: Mat{float}\n",
    "    \"\"\" ELBOを計算する。付録A.4を参照のこと。\n",
    "    Args:\n",
    "        X: \n",
    "        prior: \n",
    "        posterior: \n",
    "    \"\"\"\n",
    "    ln_expt_S = update_S(posterior, X)\n",
    "    expt_S = np.exp(ln_expt_S)\n",
    "    K, N = expt_S.shape\n",
    "    D = X.shape[0]\n",
    "\n",
    "    # A.4の表式どおりに計算する。\n",
    "    expt_ln_lambda = np.zeros((D, K))\n",
    "    expt_lambda = np.zeros((D, K))\n",
    "    expt_ln_lkh = 0\n",
    "    for k in range(K):\n",
    "        expt_ln_lambda[:,k] = digamma(posterior.gamma[k].a) - np.log(posterior.gamma[k].b)\n",
    "        expt_lambda[:,k] = posterior.gamma[k].a / posterior.gamma[k].b\n",
    "        for n in range(N):\n",
    "            expt_ln_lkh += expt_S[k,n] * (\n",
    "                X[:, n].T * expt_ln_lambda[:,k] \n",
    "                    - sum(expt_lambda[:,k]) - sum(gammaln(X[:,n]+1))\n",
    "            )[0]\n",
    "\n",
    "    expt_ln_pS = sum(sum(expt_S.T * (digamma(posterior.alpha) - digamma(sum(posterior.alpha)))))\n",
    "    \n",
    "    expt_ln_qS = sum(sum(expt_S * ln_expt_S))\n",
    "    # KLダイバージェンスを計算する。\n",
    "    # KL[q(lambda)||p(lambda)]\n",
    "    KL_lambda = 0\n",
    "    for k in range(K):\n",
    "        KL_lambda += (\n",
    "            sum(posterior.gamma[k].a)*np.log(posterior.gamma[k].b) \n",
    "                - sum(prior.gamma[k].a)*np.log(prior.gamma[k].b)\n",
    "                - sum(gammaln(posterior.gamma[k].a)) + sum(gammaln(prior.gamma[k].a))\n",
    "                + (posterior.gamma[k].a - prior.gamma[k].a).T * expt_ln_lambda[:,k][0]\n",
    "                + (prior.gamma[k].b - posterior.gamma[k].b) * sum(expt_lambda[:,k])\n",
    "        )[0]\n",
    "        \n",
    "    # KL[q(pi)||p(pi)]\n",
    "    KL_pi = (\n",
    "        gammaln(sum(posterior.alpha)) \n",
    "            - gammaln(sum(prior.alpha))\n",
    "            - sum(gammaln(posterior.alpha)) + sum(gammaln(prior.alpha))\n",
    "            + (posterior.alpha - prior.alpha).T \n",
    "        * (digamma(posterior.alpha) - digamma(sum(posterior.alpha)))\n",
    "    )[0]\n",
    "    return expt_ln_lkh + expt_ln_pS - expt_ln_qS - (KL_lambda + KL_pi)\n",
    "\n",
    "\n",
    "def add_stats(bpmm: BayesPoiMixModel, X, S):  # X: Matrix{Float64}, S: Matrix{Float64}\n",
    "    D = bpmm.num_dim\n",
    "    K = bpmm.num_cluster\n",
    "    sum_S = S.sum(axis=1)\n",
    "    alpha = [bpmm.alpha[k] + sum_S[k] for k in range(K)]\n",
    "    gamDists = [] # Vector{Gam}()\n",
    "    XS = X @ S.T;\n",
    "    for k in range(K):\n",
    "        a = np.ones(D)\n",
    "        for d in range(D):\n",
    "            a[d] = a[d]*float(bpmm.gamma[k].a[d] + XS[d,k])\n",
    "        b = bpmm.gamma[k].b + sum_S[k]\n",
    "        gamDists.append(Gamma(a=a, b=b))\n",
    "    return BayesPoiMixModel(num_dim=D, num_cluster=K, alpha=alpha, gamma=gamDists)\n",
    "\n",
    "\n",
    "def remove_stats(bpmm: BayesPoiMixModel, X, S): # X: Matrix{Float64}, S: Matrix{Float64}\n",
    "    return add_stats(bpmm, X, -S)"
   ]
  },
  {
   "cell_type": "code",
   "execution_count": 3,
   "metadata": {},
   "outputs": [],
   "source": [
    "def sample_PMM(bpmm: BayesPoiMixModel) -> PoiMixModel:\n",
    "    pois = []\n",
    "    for c in bpmm.gamma:\n",
    "        lambda_ = np.zeros(bpmm.num_dim)\n",
    "        for d in range(bpmm.num_dim):\n",
    "            lambda_[d] = rnd.gamma(shape=c.a[d], scale=1.0/c.b)\n",
    "        pois.append(Poisson(lambda_ = lambda_))\n",
    "    return PoiMixModel(\n",
    "        num_dim = bpmm.num_dim, \n",
    "        num_cluster = bpmm.num_cluster,\n",
    "        phi = rnd.dirichlet(bpmm.alpha),\n",
    "        poisson=pois\n",
    "    )\n",
    "\n",
    "\n",
    "# Sample data from a specific PMM model.\n",
    "def sample_data(pmm: PoiMixModel, N: int):\n",
    "    x = np.zeros((pmm.num_dim, N)) #np.matrix(np.zeros(pmm.D, N))\n",
    "    s = categorical_sample(pmm.phi, N)\n",
    "    for n in range(N):\n",
    "        k = np.argmax(s[:, n])\n",
    "        for d in range(pmm.num_dim):\n",
    "            x[d, n] = rnd.poisson(pmm.poisson[k].lambda_[d])\n",
    "    return x, s\n",
    "\n",
    "#categorical_sample(p::Vector{Float64}) = categorical_sample(p, 1)[:,1]\n",
    "\n",
    "def categorical_sample(p: List[float], N: int = 1):\n",
    "    K = len(p)\n",
    "    S = np.zeros((K, N)) # np.matrix(np.zeros(K, N))\n",
    "    # numpy.randomにはわかりやすくcategorical sampleを行う関数がない。\n",
    "    # ググったところ、numpy.random.Generator.choice()がカテゴリ分布になっているらしい。\n",
    "    # http://bois.caltech.edu/distribution_explorer/discrete/categorical.html\n",
    "    S_tmp = rnd.default_rng().choice(len(p), N, p=p)\n",
    "    for k in range(K):\n",
    "        #S[S[k, S_tmp == k]] = 1\n",
    "        #S[k,find(S_tmp==k)] = 1\n",
    "        S[k, S_tmp == k] = 1\n",
    "    return S if N != 1 else S[:, 0]\n",
    "\n",
    "\n",
    "def init_S(x, bpmm: BayesPoiMixModel): # X: Matrix{float}\n",
    "    s = categorical_sample(np.ones(bpmm.num_cluster)/bpmm.num_cluster, x.shape[1])    \n",
    "    return s"
   ]
  },
  {
   "cell_type": "markdown",
   "metadata": {},
   "source": [
    "ギブスサンプリングを実装する。"
   ]
  },
  {
   "cell_type": "code",
   "execution_count": 4,
   "metadata": {},
   "outputs": [],
   "source": [
    "# used for Gibbs Sampling\n",
    "def sample_S_GS(pmm: PoiMixModel, X):  # X: Matrix{Float64}\n",
    "    D, N = X.shape\n",
    "    K = pmm.num_cluster\n",
    "    S = np.zeros((K, N))\n",
    "    tmp = [-sum(pmm.poisson[k].lambda_) + np.log(pmm.phi[k]) for k in range(K)]\n",
    "    ln_lambda_X = [X.T*np.log(pmm.poisson[k].lambda_) for k in range(K)]\n",
    "    for n in range(N):\n",
    "        tmp_ln_phi = [(tmp[k] + ln_lambda_X[k][n]) for k in range(K)]\n",
    "        # 知らなかったのでメモ：詳細は https://qiita.com/BigSea/items/1949b3ceefcec4fc32ea\n",
    "        # logsumexp()ってなんだよlog(sum(exp(.)))でええやん、、、？みたいな気持ちになるが、\n",
    "        # log(sum(exp(.)))した結果はアンダー・オーバーフローしない範囲に収まっていても、\n",
    "        # exp(.)の時点でアンダー・オーバーフローしたら全てがおじゃんなので、これを回避するための計算法\n",
    "        # （面白い；実際書き下して回したらアンダーフローした、そりゃそうだ）\n",
    "        tmp_ln_phi = tmp_ln_phi - logsumexp(tmp_ln_phi)\n",
    "        S[:,n] = categorical_sample(np.exp(tmp_ln_phi).T[0,:])\n",
    "    return S\n",
    "\n",
    "\n",
    "def conduct_Gibbs_sampling(x, s, prior: BayesPoiMixModel):  # X::Matrix{Float64}\n",
    "    # sample parameters\n",
    "    pmm = sample_PMM(prior)\n",
    "    # sample latent variables\n",
    "    s = sample_S_GS(pmm, x)\n",
    "    # update current model\n",
    "    posterior = add_stats(prior, x, s)\n",
    "    return s, posterior, calc_ELBO(x, prior, posterior)"
   ]
  },
  {
   "cell_type": "markdown",
   "metadata": {},
   "source": [
    "変分推論を実装する。"
   ]
  },
  {
   "cell_type": "code",
   "execution_count": 5,
   "metadata": {},
   "outputs": [],
   "source": [
    "# Compute posterior distribution via variational inference.\n",
    "def update_S(prior: BayesPoiMixModel, x):\n",
    "    D, N = x.shape\n",
    "    num_cluster = prior.num_cluster\n",
    "    ln_expt_S = np.zeros((num_cluster, N))\n",
    "    tmp = np.zeros(num_cluster)\n",
    "\n",
    "    sum_digamma_tmp = digamma(sum(prior.alpha))\n",
    "    for k in range(num_cluster):\n",
    "        tmp[k] = - sum(prior.gamma[k].a) / prior.gamma[k].b\n",
    "        tmp[k] += digamma(prior.alpha[k]) - sum_digamma_tmp\n",
    "    ln_lambda_X = [x.T*(digamma(prior.gamma[k].a) - np.log(prior.gamma[k].b)) for k in range(num_cluster)]\n",
    "    for n in range(N):\n",
    "        tmp_ln_pi =  [tmp[k] + ln_lambda_X[k][n] for k in range(num_cluster)]\n",
    "        ln_expt_S[:,n] = (tmp_ln_pi - logsumexp(tmp_ln_pi))[:, 0]\n",
    "    return ln_expt_S\n",
    "\n",
    "\n",
    "def conduct_variational_inference(x, s, prior: BayesPoiMixModel):  # X: Matrix{Float64}\n",
    "    \"\"\" 変分推論により事後分布を推定する。\n",
    "    \"\"\"\n",
    "    # E-step\n",
    "    expt_S = np.exp(update_S(prior, x))\n",
    "    # M-step\n",
    "    posterior = add_stats(prior, x, expt_S)\n",
    "    return expt_S, posterior, calc_ELBO(x, prior, posterior)"
   ]
  },
  {
   "cell_type": "markdown",
   "metadata": {},
   "source": [
    "崩壊型ギブスサンプリングを実装する。"
   ]
  },
  {
   "cell_type": "code",
   "execution_count": 6,
   "metadata": {},
   "outputs": [],
   "source": [
    "# used for Collapsed Gibbs Sampling\n",
    "def calc_ln_NB(Xn, gam: Gamma): # Xn: Vector{Float64}\n",
    "    return sum([\n",
    "        float(gam.a[d]*np.log(gam.b)\n",
    "            - gammaln(gam.a[d])\n",
    "            + gammaln(Xn[d] + gam.a[d])\n",
    "            - (Xn[d] + gam.a[d])*np.log(gam.b + 1)\n",
    "        ) for d in range(Xn.shape[0])\n",
    "    ])\n",
    "\n",
    "\n",
    "def sample_Sn(Xn, bpmm: BayesPoiMixModel): # Xn: Vector{Float64}\n",
    "    ln_tmp = [(calc_ln_NB(Xn, bpmm.gamma[k]) + np.log(bpmm.alpha[k])) for k in range(bpmm.num_cluster)]\n",
    "    ln_tmp = ln_tmp -  logsumexp(ln_tmp)\n",
    "    Sn = categorical_sample(np.exp(ln_tmp))\n",
    "    return Sn\n",
    "\n",
    "\n",
    "def sample_S_CGS(S, X, bpmm: BayesPoiMixModel):  # S: Matrix{Float64}, X: Matrix{Float64}\n",
    "    D, N = X.shape\n",
    "    K = S.shape[0]\n",
    "    for n in rnd.permutation(N):\n",
    "        bpmm = remove_stats(bpmm, X[:,[n]], S[:,[n]])  # remove\n",
    "        S[:,n] = sample_Sn(X[:,n], bpmm)  # sample\n",
    "        bpmm = add_stats(bpmm, X[:,[n]], S[:,[n]])  # insert\n",
    "    return S, bpmm\n",
    "\n",
    "\n",
    "def conduct_collapsed_Gibbs_sampling(x, s, prior: BayesPoiMixModel):  \n",
    "    # directly sample S\n",
    "    s, posterior = sample_S_CGS(s, x, prior)\n",
    "    return s, posterior, calc_ELBO(x, prior, posterior)"
   ]
  },
  {
   "cell_type": "markdown",
   "metadata": {},
   "source": [
    "指定されたアルゴリズムをstep-by-stepに実行していくwrapperを作っておく。"
   ]
  },
  {
   "cell_type": "code",
   "execution_count": 7,
   "metadata": {},
   "outputs": [],
   "source": [
    "algorithms = {\n",
    "    \"GS\": conduct_Gibbs_sampling, \n",
    "    \"VI\": conduct_variational_inference, \n",
    "    \"CGS\": conduct_collapsed_Gibbs_sampling,\n",
    "}\n",
    "\n",
    "\n",
    "def learn_step_by_step(x, s, prior: BayesPoiMixModel, algo: str):\n",
    "    return algorithms[algo](x, s, prior)\n",
    "\n",
    "\n",
    "class Cache:\n",
    "    def __init__(self, s, prior):\n",
    "        self.s = s\n",
    "        self.prior = prior\n",
    "\n",
    "\n",
    "def learn(x, s, prior: BayesPoiMixModel, iter_=1000):\n",
    "    # 初期化\n",
    "    s = init_S(x, prior)\n",
    "    prior = add_stats(prior, x, s)\n",
    "    \n",
    "    # 各アルゴリズムの結果をキャッシュしておく変数を作る\n",
    "    gs, vi, cgs = Cache(s, prior), Cache(s, prior), Cache(s, prior)\n",
    "    path = {\"GS\": [], \"VI\": [], \"CGS\": []}\n",
    "    for i in tqdm(range(iter_)):\n",
    "        gs_s, gs_post, gs_v = learn_step_by_step(x, gs.s, gs.prior, \"GS\")\n",
    "        vi_s, vi_post, vi_v = learn_step_by_step(x, vi.s, vi.prior, \"VI\")\n",
    "        cgs_s, cgs_post, cgs_v = learn_step_by_step(x, cgs.s, cgs.prior, \"CGS\")\n",
    "        # update（もっと綺麗な書き方がありそう…）\n",
    "        gs, vi, cgs = Cache(gs_s, gs_post), Cache(vi_s, vi_post), Cache(cgs_s, cgs_post)\n",
    "        # pathを記録しておく\n",
    "        path[\"GS\"].append(gs_v)\n",
    "        path[\"VI\"].append(vi_v)\n",
    "        path[\"CGS\"].append(cgs_v)\n",
    "    return gs, vi, cgs, path"
   ]
  },
  {
   "cell_type": "markdown",
   "metadata": {},
   "source": [
    "モデルを作って、クラスタリングを行うデータを見てみる。"
   ]
  },
  {
   "cell_type": "code",
   "execution_count": 8,
   "metadata": {},
   "outputs": [
    {
     "data": {
      "text/plain": [
       "(array([ 58., 224., 171.,  40.,   9.,  63., 170., 168.,  79.,  18.]),\n",
       " array([ 53. ,  63.6,  74.2,  84.8,  95.4, 106. , 116.6, 127.2, 137.8,\n",
       "        148.4, 159. ]),\n",
       " <a list of 10 Patch objects>)"
      ]
     },
     "execution_count": 8,
     "metadata": {},
     "output_type": "execute_result"
    },
    {
     "data": {
      "image/png": "[encoded data removed]",
      "text/plain": [
       "<Figure size 432x288 with 1 Axes>"
      ]
     },
     "metadata": {},
     "output_type": "display_data"
    }
   ],
   "source": [
    "# モデルの構築\n",
    "prior_ = BayesPoiMixModel(\n",
    "    num_dim=1, \n",
    "    num_cluster=2, \n",
    "    alpha=100.0, \n",
    "    gamma=Gamma(a=1.0*np.ones(1), b=0.01)\n",
    ")\n",
    "\n",
    "pmm_ = sample_PMM(prior_)  # 真のモデルを作る\n",
    "x_, s_ = sample_data(pmm_, 1000)  # データを作る\n",
    "plt.hist(x_[0, :], alpha=.7)"
   ]
  },
  {
   "cell_type": "markdown",
   "metadata": {},
   "source": [
    "ざっくりと2峰性の分布になっていることがわかる（何回か繰り返してください…）。このデータに対してクラスタリングを行ってみる。"
   ]
  },
  {
   "cell_type": "code",
   "execution_count": 9,
   "metadata": {},
   "outputs": [
    {
     "data": {
      "text/plain": [
       "(array([  5.,   3.,  13.,  37., 118.,  78.,  81.,  53.,  49.,  34.,  47.,\n",
       "         63., 101.,  89.,  86.,  67.,  39.,  22.,  10.,   5.]),\n",
       " array([15.  , 18.25, 21.5 , 24.75, 28.  , 31.25, 34.5 , 37.75, 41.  ,\n",
       "        44.25, 47.5 , 50.75, 54.  , 57.25, 60.5 , 63.75, 67.  , 70.25,\n",
       "        73.5 , 76.75, 80.  ]),\n",
       " <a list of 20 Patch objects>)"
      ]
     },
     "execution_count": 9,
     "metadata": {},
     "output_type": "execute_result"
    },
    {
     "data": {
      "image/png": "[encoded data removed]",
      "text/plain": [
       "<Figure size 432x288 with 1 Axes>"
      ]
     },
     "metadata": {},
     "output_type": "display_data"
    }
   ],
   "source": [
    "# 上手く教科書どおりのが出ないときは、このデータを読み込む\n",
    "source = pd.read_csv(\"data/poisson_mixture_model.csv\")\n",
    "x_, s_ = np.array([source.loc[:, \"X\"]]), np.array([source.loc[:, \"S0\"], source.loc[:, \"S1\"]])\n",
    "plt.hist(x_[0, :], alpha=.7, bins=20)"
   ]
  },
  {
   "cell_type": "code",
   "execution_count": 10,
   "metadata": {},
   "outputs": [
    {
     "name": "stderr",
     "output_type": "stream",
     "text": [
      "100%|██████████| 100/100 [01:36<00:00,  1.03it/s]\n"
     ]
    }
   ],
   "source": [
    "# 何回か実験したところ、この条件ではiterationに1000もいらず、100で十分と言うことがわかった\n",
    "results = learn(x_[0:100], s_[0:100], prior_, iter_=100)"
   ]
  },
  {
   "cell_type": "code",
   "execution_count": 11,
   "metadata": {},
   "outputs": [],
   "source": [
    "path = pd.DataFrame(results[3])"
   ]
  },
  {
   "cell_type": "code",
   "execution_count": 12,
   "metadata": {},
   "outputs": [
    {
     "data": {
      "text/plain": [
       "<matplotlib.axes._subplots.AxesSubplot at 0x7f2d9f0f40f0>"
      ]
     },
     "execution_count": 12,
     "metadata": {},
     "output_type": "execute_result"
    },
    {
     "data": {
      "image/png": "[encoded data removed]",
      "text/plain": [
       "<Figure size 432x288 with 1 Axes>"
      ]
     },
     "metadata": {},
     "output_type": "display_data"
    }
   ],
   "source": [
    "path.plot()"
   ]
  },
  {
   "cell_type": "code",
   "execution_count": 13,
   "metadata": {},
   "outputs": [
    {
     "data": {
      "text/plain": [
       "array([[1., 0., 0., ..., 0., 0., 1.],\n",
       "       [0., 1., 1., ..., 1., 1., 0.]])"
      ]
     },
     "metadata": {},
     "output_type": "display_data"
    },
    {
     "data": {
      "text/plain": [
       "array([[8.90518410e-01, 6.10849719e-05, 4.87685652e-01, ...,\n",
       "        9.79187433e-08, 3.67123297e-02, 9.99424292e-01],\n",
       "       [1.09481590e-01, 9.99938915e-01, 5.12314348e-01, ...,\n",
       "        9.99999902e-01, 9.63287670e-01, 5.75707959e-04]])"
      ]
     },
     "metadata": {},
     "output_type": "display_data"
    },
    {
     "data": {
      "text/plain": [
       "array([[1., 0., 0., ..., 0., 0., 1.],\n",
       "       [0., 1., 1., ..., 1., 1., 0.]])"
      ]
     },
     "metadata": {},
     "output_type": "display_data"
    },
    {
     "data": {
      "image/png": "[encoded data removed]",
      "text/plain": [
       "<Figure size 1296x432 with 3 Axes>"
      ]
     },
     "metadata": {},
     "output_type": "display_data"
    }
   ],
   "source": [
    "def draw(x, predicted, ax):\n",
    "    cluster_labels = list(range(predicted.prior.num_cluster))\n",
    "    display(predicted.s)\n",
    "    _, bins, patches = ax.hist(x[0], bins=20)\n",
    "    # https://qiita.com/HidKamiya/items/524d77e3b53a13849f1a\n",
    "    boundaries = [b/10 for b in range(int(min(cluster_labels))*10, int(max(cluster_labels))*10 + 1, 1)]\n",
    "    norm = BoundaryNorm(boundaries, ncolors=len(boundaries))\n",
    "    cmap = plt.get_cmap(\"bwr\", len(boundaries) - 1)\n",
    "    for i, patch in enumerate(patches):\n",
    "        elem = predicted.s[0][(x_[0] >= bins[i]) & (x_[0] <= bins[i+1])]\n",
    "        patch.set_facecolor(cmap(norm(np.mean(elem))))\n",
    "\n",
    "def show_all(x, predicted_objs):\n",
    "    fig = plt.figure(figsize=(18, 6))\n",
    "    ax = (fig.add_subplot(1, 3, 1), fig.add_subplot(1, 3, 2), fig.add_subplot(1, 3, 3))\n",
    "    for i, a in enumerate(ax):\n",
    "        draw(x, predicted_objs[i], a)\n",
    "    fig.tight_layout()\n",
    "\n",
    "show_all(x_, results)"
   ]
  },
  {
   "cell_type": "markdown",
   "metadata": {},
   "source": [
    "心の目で見ると、クラスターの間あたりはグラデーションがかかっている（おそらくデータが簡単すぎるので、きれいにグラデーションがかからない）。"
   ]
  },
  {
   "cell_type": "code",
   "execution_count": null,
   "metadata": {},
   "outputs": [],
   "source": []
  },
  {
   "cell_type": "code",
   "execution_count": null,
   "metadata": {},
   "outputs": [],
   "source": []
  }
 ],
 "metadata": {
  "kernelspec": {
   "display_name": "Python 3",
   "language": "python",
   "name": "python3"
  },
  "language_info": {
   "codemirror_mode": {
    "name": "ipython",
    "version": 3
   },
   "file_extension": ".py",
   "mimetype": "text/x-python",
   "name": "python",
   "nbconvert_exporter": "python",
   "pygments_lexer": "ipython3",
   "version": "3.6.9"
  }
 },
 "nbformat": 4,
 "nbformat_minor": 4
}
