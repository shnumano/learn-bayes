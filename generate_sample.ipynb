{
 "cells": [
  {
   "cell_type": "code",
   "execution_count": 1,
   "metadata": {},
   "outputs": [],
   "source": [
    "import matplotlib.pyplot as plt\n",
    "import numpy as np\n",
    "import numpy.random as rnd\n",
    "import scipy.stats as stats\n",
    "import seaborn as sns\n",
    "\n",
    "plt.style.use(\"ggplot\")\n",
    "sns.set_context(\"poster\")"
   ]
  },
  {
   "cell_type": "markdown",
   "metadata": {},
   "source": [
    "ハイパーパラメーターを設定する。簡単のために、全クラスターで同じハイパーパラメーターを採用する。"
   ]
  },
  {
   "cell_type": "code",
   "execution_count": 3,
   "metadata": {},
   "outputs": [
    {
     "ename": "SyntaxError",
     "evalue": "invalid syntax (<ipython-input-3-853d69bfd3e4>, line 1)",
     "output_type": "error",
     "traceback": [
      "\u001b[0;36m  File \u001b[0;32m\"<ipython-input-3-853d69bfd3e4>\"\u001b[0;36m, line \u001b[0;32m1\u001b[0m\n\u001b[0;31m    ALPHA =\u001b[0m\n\u001b[0m            ^\u001b[0m\n\u001b[0;31mSyntaxError\u001b[0m\u001b[0;31m:\u001b[0m invalid syntax\n"
     ]
    }
   ],
   "source": [
    "# Parameters of * distribution\n",
    "Gam = { \"a\": [0.0], \"b\": 0.0 }\n",
    "Poi = { \"lambda\": [0.0] }\n",
    "\n",
    "# Bayesian Poisson Mixture Model \n",
    "BPMM = { \"D\": 0, \"K\": 0, \"alpha\": [0.0], \"cmp\": {Gam} }\n",
    "# Poisson Mixture Model \n",
    "PMM = { \"D\": 0, \"K\": 0, \"phi\": [0.0], \"cmp\": {Poi}}"
   ]
  },
  {
   "cell_type": "code",
   "execution_count": null,
   "metadata": {},
   "outputs": [],
   "source": [
    "## Common functions\n",
    "\n",
    "# Sample a PMM given hyperparameters.\n",
    "function sample_PMM(bpmm::BPMM)\n",
    "    cmp = Vector{Poi}()\n",
    "    for c in bpmm.cmp\n",
    "        lambda = Vector{Float64}()\n",
    "        for d in 1 : bpmm.D\n",
    "            push!(lambda, rand(Gamma(c.a[d], 1.0/c.b)))\n",
    "        end\n",
    "        push!(cmp, Poi(lambda))  \n",
    "    end\n",
    "    phi = rand(Dirichlet(bpmm.alpha))\n",
    "    return PMM(bpmm.D, bpmm.K, phi, cmp)\n",
    "end\n",
    "\n",
    "# Sample data from a specific PMM model.\n",
    "function sample_data(pmm::PMM, N::Int)\n",
    "    X = zeros(pmm.D, N)\n",
    "    S = categorical_sample(pmm.phi, N)\n",
    "    for n in 1 : N\n",
    "        k = indmax(S[:, n])\n",
    "        for d in 1 : pmm.D\n",
    "            X[d,n] = rand(Poisson(pmm.cmp[k].lambda[d]))\n",
    "        end\n",
    "    end\n",
    "    return X, S\n",
    "end\n",
    "\n",
    "categorical_sample(p::Vector{Float64}) = categorical_sample(p, 1)[:,1]\n",
    "function categorical_sample(p::Vector{Float64}, N::Int)\n",
    "    K = length(p)\n",
    "    S = zeros(K, N)\n",
    "    S_tmp = rand(Categorical(p), N)\n",
    "    for k in 1 : K\n",
    "        S[k,find(S_tmp.==k)] = 1\n",
    "    end\n",
    "    return S\n",
    "end\n",
    "\n",
    "function init_S(X::Matrix{Float64}, bpmm::BPMM)\n",
    "    N = size(X, 2)\n",
    "    K = bpmm.K\n",
    "    S = categorical_sample(ones(K)/K, N)    \n",
    "    return S\n",
    "end"
   ]
  },
  {
   "cell_type": "code",
   "execution_count": null,
   "metadata": {},
   "outputs": [],
   "source": [
    "s_n = stats."
   ]
  }
 ],
 "metadata": {
  "kernelspec": {
   "display_name": "Python 3",
   "language": "python",
   "name": "python3"
  },
  "language_info": {
   "codemirror_mode": {
    "name": "ipython",
    "version": 3
   },
   "file_extension": ".py",
   "mimetype": "text/x-python",
   "name": "python",
   "nbconvert_exporter": "python",
   "pygments_lexer": "ipython3",
   "version": "3.6.9"
  }
 },
 "nbformat": 4,
 "nbformat_minor": 4
}
